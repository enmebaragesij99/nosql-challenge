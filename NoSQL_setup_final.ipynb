{
 "cells": [
  {
   "cell_type": "markdown",
   "id": "9a57c4c6",
   "metadata": {},
   "source": [
    "# Eat Safe, Love"
   ]
  },
  {
   "cell_type": "markdown",
   "id": "064ef857",
   "metadata": {},
   "source": [
    "## Part 1: Database and Jupyter Notebook Set Up"
   ]
  },
  {
   "cell_type": "markdown",
   "id": "664e3c1f",
   "metadata": {},
   "source": [
    "Import the data provided in the `establishments.json` file from your Terminal. Name the database `uk_food` and the collection `establishments`.\n",
    "\n",
    "Within this markdown cell, copy the line of text you used to import the data from your Terminal. This way, future analysts will be able to repeat your process.\n",
    "\n",
    "e.g.: Import the dataset with `YOUR IMPORT TEXT HERE`"
   ]
  },
  {
   "cell_type": "markdown",
   "id": "b0c00779",
   "metadata": {},
   "source": [
    "mongoimport --type json -d uk_food -c establishments --drop --jsonArray establishments.json\n"
   ]
  },
  {
   "cell_type": "code",
   "execution_count": 1,
   "id": "3ecdd008",
   "metadata": {},
   "outputs": [],
   "source": [
    "# Import dependencies\n",
    "from pymongo import MongoClient\n",
    "from pprint import pprint"
   ]
  },
  {
   "cell_type": "code",
   "execution_count": 2,
   "id": "59390c4a",
   "metadata": {},
   "outputs": [],
   "source": [
    "# Create an instance of MongoClient\n",
    "mongo = MongoClient(port=27017)"
   ]
  },
  {
   "cell_type": "code",
   "execution_count": 3,
   "id": "7f9ececa",
   "metadata": {},
   "outputs": [
    {
     "name": "stdout",
     "output_type": "stream",
     "text": [
      "['admin', 'config', 'epa', 'fruits_db', 'local', 'met', 'petsitly_marketing', 'test', 'uk_food']\n"
     ]
    }
   ],
   "source": [
    "# confirm that our new database was created\n",
    "print(mongo.list_database_names())"
   ]
  },
  {
   "cell_type": "code",
   "execution_count": 4,
   "id": "71e373c1",
   "metadata": {},
   "outputs": [],
   "source": [
    "# assign the uk_food database to a variable name\n",
    "db=mongo['uk_food']"
   ]
  },
  {
   "cell_type": "code",
   "execution_count": 5,
   "id": "ef1b89ed",
   "metadata": {},
   "outputs": [
    {
     "name": "stdout",
     "output_type": "stream",
     "text": [
      "['establishments']\n"
     ]
    }
   ],
   "source": [
    "# review the collections in our new database\n",
    "print(db.list_collection_names())"
   ]
  },
  {
   "cell_type": "code",
   "execution_count": 6,
   "id": "6a0d92df",
   "metadata": {},
   "outputs": [
    {
     "name": "stdout",
     "output_type": "stream",
     "text": [
      "{'AddressLine1': 'The Pines Garden',\n",
      " 'AddressLine2': 'Beach Road',\n",
      " 'AddressLine3': 'St Margarets Bay',\n",
      " 'AddressLine4': 'Kent',\n",
      " 'BusinessName': 'The Pines Calyx',\n",
      " 'BusinessType': 'Other catering premises',\n",
      " 'BusinessTypeID': 7841,\n",
      " 'ChangesByServerID': 0,\n",
      " 'Distance': 4587.362402580997,\n",
      " 'FHRSID': 254250,\n",
      " 'LocalAuthorityBusinessID': 'PI/000066174',\n",
      " 'LocalAuthorityCode': '182',\n",
      " 'LocalAuthorityEmailAddress': 'publicprotection@dover.gov.uk',\n",
      " 'LocalAuthorityName': 'Dover',\n",
      " 'LocalAuthorityWebSite': 'http://www.dover.gov.uk/',\n",
      " 'NewRatingPending': False,\n",
      " 'Phone': '',\n",
      " 'PostCode': 'CT15 6DZ',\n",
      " 'RatingDate': '2021-08-17T00:00:00',\n",
      " 'RatingKey': 'fhrs_5_en-gb',\n",
      " 'RatingValue': '5',\n",
      " 'RightToReply': '',\n",
      " 'SchemeType': 'FHRS',\n",
      " '_id': ObjectId('64e95ac3c6c63ed464f7e5ac'),\n",
      " 'geocode': {'latitude': '51.148133', 'longitude': '1.383298'},\n",
      " 'links': [{'href': 'https://api.ratings.food.gov.uk/establishments/254250',\n",
      "            'rel': 'self'}],\n",
      " 'meta': {'dataSource': None,\n",
      "          'extractDate': '0001-01-01T00:00:00',\n",
      "          'itemCount': 0,\n",
      "          'pageNumber': 0,\n",
      "          'pageSize': 0,\n",
      "          'returncode': None,\n",
      "          'totalCount': 0,\n",
      "          'totalPages': 0},\n",
      " 'scores': {'ConfidenceInManagement': 0, 'Hygiene': 0, 'Structural': 0}}\n"
     ]
    }
   ],
   "source": [
    "# review a document in the establishments collection\n",
    "pprint(db.establishments.find_one())"
   ]
  },
  {
   "cell_type": "code",
   "execution_count": 7,
   "id": "11c9f11b",
   "metadata": {},
   "outputs": [],
   "source": [
    "# assign the collection to a variable\n",
    "establishments=db['establishments']"
   ]
  },
  {
   "cell_type": "markdown",
   "id": "d5671434",
   "metadata": {},
   "source": [
    "## Part 2: Update the Database"
   ]
  },
  {
   "cell_type": "markdown",
   "id": "314bd884",
   "metadata": {},
   "source": [
    "1. An exciting new halal restaurant just opened in Greenwich, but hasn't been rated yet. The magazine has asked you to include it in your analysis. Add the following restaurant \"Penang Flavours\" to the database."
   ]
  },
  {
   "cell_type": "code",
   "execution_count": 8,
   "id": "c2da7648",
   "metadata": {},
   "outputs": [],
   "source": [
    "# Create a dictionary for the new restaurant data\n",
    "new_restaurant={\n",
    "    \n",
    "    \"BusinessName\":\"Penang Flavours\",\n",
    "    \"BusinessType\":\"Restaurant/Cafe/Canteen\",\n",
    "    \"BusinessTypeID\":\"\",\n",
    "    \"AddressLine1\":\"Penang Flavours\",\n",
    "    \"AddressLine2\":\"146A Plumstead Rd\",\n",
    "    \"AddressLine3\":\"London\",\n",
    "    \"AddressLine4\":\"\",\n",
    "    \"PostCode\":\"SE18 7DY\",\n",
    "    \"Phone\":\"\",\n",
    "    \"LocalAuthorityCode\":\"511\",\n",
    "    \"LocalAuthorityName\":\"Greenwich\",\n",
    "    \"LocalAuthorityWebSite\":\"http://www.royalgreenwich.gov.uk\",\n",
    "    \"LocalAuthorityEmailAddress\":\"health@royalgreenwich.gov.uk\",\n",
    "    \"scores\":{\n",
    "        \"Hygiene\":\"\",\n",
    "        \"Structural\":\"\",\n",
    "        \"ConfidenceInManagement\":\"\"\n",
    "    },\n",
    "    \"SchemeType\":\"FHRS\",\n",
    "    \"geocode\":{\n",
    "        \"longitude\":\"0.08384000\",\n",
    "        \"latitude\":\"51.49014200\"\n",
    "    },\n",
    "    \"RightToReply\":\"\",\n",
    "    \"Distance\":4623.9723280747176,\n",
    "    \"NewRatingPending\":True\n",
    "}"
   ]
  },
  {
   "cell_type": "code",
   "execution_count": 9,
   "id": "a6e5cece",
   "metadata": {},
   "outputs": [
    {
     "data": {
      "text/plain": [
       "<pymongo.results.InsertOneResult at 0x1f823af7760>"
      ]
     },
     "execution_count": 9,
     "metadata": {},
     "output_type": "execute_result"
    }
   ],
   "source": [
    "# Insert the new restaurant into the collection\n",
    "establishments.insert_one(new_restaurant)"
   ]
  },
  {
   "cell_type": "code",
   "execution_count": 10,
   "id": "63bb10f9",
   "metadata": {},
   "outputs": [
    {
     "name": "stdout",
     "output_type": "stream",
     "text": [
      "{'_id': ObjectId('64e95ada63826735100d6ff0'), 'BusinessName': 'Penang Flavours', 'BusinessType': 'Restaurant/Cafe/Canteen', 'BusinessTypeID': '', 'AddressLine1': 'Penang Flavours', 'AddressLine2': '146A Plumstead Rd', 'AddressLine3': 'London', 'AddressLine4': '', 'PostCode': 'SE18 7DY', 'Phone': '', 'LocalAuthorityCode': '511', 'LocalAuthorityName': 'Greenwich', 'LocalAuthorityWebSite': 'http://www.royalgreenwich.gov.uk', 'LocalAuthorityEmailAddress': 'health@royalgreenwich.gov.uk', 'scores': {'Hygiene': '', 'Structural': '', 'ConfidenceInManagement': ''}, 'SchemeType': 'FHRS', 'geocode': {'longitude': '0.08384000', 'latitude': '51.49014200'}, 'RightToReply': '', 'Distance': 4623.972328074718, 'NewRatingPending': True}\n"
     ]
    }
   ],
   "source": [
    "# Check that the new restaurant was inserted\n",
    "query={\"BusinessName\":\"Penang Flavours\"}\n",
    "results=establishments.find(query)\n",
    "\n",
    "for result in results:\n",
    "    print(result)"
   ]
  },
  {
   "cell_type": "markdown",
   "id": "0ef4395a",
   "metadata": {},
   "source": [
    "2. Find the BusinessTypeID for \"Restaurant/Cafe/Canteen\" and return only the `BusinessTypeID` and `BusinessType` fields."
   ]
  },
  {
   "cell_type": "code",
   "execution_count": 11,
   "id": "93c63829",
   "metadata": {},
   "outputs": [
    {
     "name": "stdout",
     "output_type": "stream",
     "text": [
      "[{'BusinessType': 'Restaurant/Cafe/Canteen',\n",
      "  'BusinessTypeID': 1,\n",
      "  '_id': ObjectId('64e95ac3c6c63ed464f7e5af')},\n",
      " {'BusinessType': 'Restaurant/Cafe/Canteen',\n",
      "  'BusinessTypeID': 1,\n",
      "  '_id': ObjectId('64e95ac3c6c63ed464f7e5b0')},\n",
      " {'BusinessType': 'Restaurant/Cafe/Canteen',\n",
      "  'BusinessTypeID': 1,\n",
      "  '_id': ObjectId('64e95ac3c6c63ed464f7e5b1')},\n",
      " {'BusinessType': 'Restaurant/Cafe/Canteen',\n",
      "  'BusinessTypeID': 1,\n",
      "  '_id': ObjectId('64e95ac3c6c63ed464f7e5b2')},\n",
      " {'BusinessType': 'Restaurant/Cafe/Canteen',\n",
      "  'BusinessTypeID': 1,\n",
      "  '_id': ObjectId('64e95ac3c6c63ed464f7e5b3')}]\n"
     ]
    }
   ],
   "source": [
    "# Find the BusinessTypeID for \"Restaurant/Cafe/Canteen\" and return only the BusinessTypeID and BusinessType fields\n",
    "query={'BusinessType': {'$in':['Restaurant/Cafe/Canteen']}}\n",
    "fields={'BusinessTypeID':1,'BusinessType':1}\n",
    "limit=5\n",
    "results=list(establishments.find(query,fields).limit(limit))\n",
    "\n",
    "pprint(results)"
   ]
  },
  {
   "cell_type": "markdown",
   "id": "4e570caf",
   "metadata": {},
   "source": [
    "3. Update the new restaurant with the `BusinessTypeID` you found."
   ]
  },
  {
   "cell_type": "code",
   "execution_count": 12,
   "id": "7f599f3d",
   "metadata": {},
   "outputs": [
    {
     "data": {
      "text/plain": [
       "<pymongo.results.UpdateResult at 0x1f822325600>"
      ]
     },
     "execution_count": 12,
     "metadata": {},
     "output_type": "execute_result"
    }
   ],
   "source": [
    "# Update the new restaurant with the correct BusinessTypeID\n",
    "db.establishments.update_one(\n",
    "    {'BusinessName':'Penang Flavours'},\n",
    "    {'$set':\n",
    "        {'BusinessTypeID': 1}\n",
    "    }\n",
    "        \n",
    "    )"
   ]
  },
  {
   "cell_type": "code",
   "execution_count": 13,
   "id": "a6ad16f7",
   "metadata": {},
   "outputs": [
    {
     "name": "stdout",
     "output_type": "stream",
     "text": [
      "{'_id': ObjectId('64e95ada63826735100d6ff0'), 'BusinessName': 'Penang Flavours', 'BusinessType': 'Restaurant/Cafe/Canteen', 'BusinessTypeID': 1, 'AddressLine1': 'Penang Flavours', 'AddressLine2': '146A Plumstead Rd', 'AddressLine3': 'London', 'AddressLine4': '', 'PostCode': 'SE18 7DY', 'Phone': '', 'LocalAuthorityCode': '511', 'LocalAuthorityName': 'Greenwich', 'LocalAuthorityWebSite': 'http://www.royalgreenwich.gov.uk', 'LocalAuthorityEmailAddress': 'health@royalgreenwich.gov.uk', 'scores': {'Hygiene': '', 'Structural': '', 'ConfidenceInManagement': ''}, 'SchemeType': 'FHRS', 'geocode': {'longitude': '0.08384000', 'latitude': '51.49014200'}, 'RightToReply': '', 'Distance': 4623.972328074718, 'NewRatingPending': True}\n"
     ]
    }
   ],
   "source": [
    "# Confirm that the new restaurant was updated\n",
    "query={\"BusinessName\":\"Penang Flavours\"}\n",
    "results=establishments.find(query)\n",
    "\n",
    "for result in results:\n",
    "    print(result)"
   ]
  },
  {
   "cell_type": "markdown",
   "id": "67281254",
   "metadata": {},
   "source": [
    "4. The magazine is not interested in any establishments in Dover, so check how many documents contain the Dover Local Authority. Then, remove any establishments within the Dover Local Authority from the database, and check the number of documents to ensure they were deleted."
   ]
  },
  {
   "cell_type": "code",
   "execution_count": 14,
   "id": "768474a6",
   "metadata": {},
   "outputs": [
    {
     "data": {
      "text/plain": [
       "994"
      ]
     },
     "execution_count": 14,
     "metadata": {},
     "output_type": "execute_result"
    }
   ],
   "source": [
    "# Find how many documents have LocalAuthorityName as \"Dover\"\n",
    "Dover_documents=establishments.count_documents({'LocalAuthorityName':'Dover'})\n",
    "Dover_documents"
   ]
  },
  {
   "cell_type": "code",
   "execution_count": 15,
   "id": "a11d5f1b",
   "metadata": {},
   "outputs": [
    {
     "data": {
      "text/plain": [
       "<pymongo.results.DeleteResult at 0x1f823af5ea0>"
      ]
     },
     "execution_count": 15,
     "metadata": {},
     "output_type": "execute_result"
    }
   ],
   "source": [
    "# Delete all documents where LocalAuthorityName is \"Dover\"\n",
    "db.establishments.delete_many(\n",
    "    {'LocalAuthorityName':'Dover'}\n",
    ")"
   ]
  },
  {
   "cell_type": "code",
   "execution_count": 16,
   "id": "2a51aba0",
   "metadata": {},
   "outputs": [
    {
     "data": {
      "text/plain": [
       "0"
      ]
     },
     "execution_count": 16,
     "metadata": {},
     "output_type": "execute_result"
    }
   ],
   "source": [
    "# Check if any remaining documents include Dover\n",
    "\n",
    "Dover_documents_clean=establishments.count_documents({'LocalAuthorityName':'Dover'})\n",
    "Dover_documents_clean"
   ]
  },
  {
   "cell_type": "code",
   "execution_count": 17,
   "id": "8c356f7b",
   "metadata": {},
   "outputs": [
    {
     "name": "stdout",
     "output_type": "stream",
     "text": [
      "{'AddressLine1': 'Wear Bay Road',\n",
      " 'AddressLine2': 'Folkestone',\n",
      " 'AddressLine3': 'Kent',\n",
      " 'AddressLine4': '',\n",
      " 'BusinessName': 'Wear Bay Bowls Club',\n",
      " 'BusinessType': 'Pub/bar/nightclub',\n",
      " 'BusinessTypeID': 7843,\n",
      " 'ChangesByServerID': 0,\n",
      " 'Distance': 4591.821311183521,\n",
      " 'FHRSID': 647177,\n",
      " 'LocalAuthorityBusinessID': 'PI/000041489',\n",
      " 'LocalAuthorityCode': '188',\n",
      " 'LocalAuthorityEmailAddress': 'foodteam@folkestone-hythe.gov.uk',\n",
      " 'LocalAuthorityName': 'Folkestone and Hythe',\n",
      " 'LocalAuthorityWebSite': 'http://www.folkestone-hythe.gov.uk',\n",
      " 'NewRatingPending': False,\n",
      " 'Phone': '',\n",
      " 'PostCode': 'CT19 6PY',\n",
      " 'RatingDate': '2014-03-31T00:00:00',\n",
      " 'RatingKey': 'fhrs_4_en-gb',\n",
      " 'RatingValue': '4',\n",
      " 'RightToReply': '',\n",
      " 'SchemeType': 'FHRS',\n",
      " '_id': ObjectId('64e95ac3c6c63ed464f7e892'),\n",
      " 'geocode': {'latitude': '51.086058', 'longitude': '1.196408'},\n",
      " 'links': [{'href': 'https://api.ratings.food.gov.uk/establishments/647177',\n",
      "            'rel': 'self'}],\n",
      " 'meta': {'dataSource': None,\n",
      "          'extractDate': '0001-01-01T00:00:00',\n",
      "          'itemCount': 0,\n",
      "          'pageNumber': 0,\n",
      "          'pageSize': 0,\n",
      "          'returncode': None,\n",
      "          'totalCount': 0,\n",
      "          'totalPages': 0},\n",
      " 'scores': {'ConfidenceInManagement': 10, 'Hygiene': 5, 'Structural': 5}}\n"
     ]
    }
   ],
   "source": [
    "# Check that other documents remain with 'find_one'\n",
    "pprint(db.establishments.find_one())"
   ]
  },
  {
   "cell_type": "markdown",
   "id": "e9f1662d",
   "metadata": {},
   "source": [
    "5. Some of the number values are stored as strings, when they should be stored as numbers. Use `update_many` to convert `latitude` and `longitude` to decimal numbers."
   ]
  },
  {
   "cell_type": "code",
   "execution_count": 18,
   "id": "fd4112ce",
   "metadata": {},
   "outputs": [
    {
     "data": {
      "text/plain": [
       "<pymongo.results.UpdateResult at 0x1f823af63e0>"
      ]
     },
     "execution_count": 18,
     "metadata": {},
     "output_type": "execute_result"
    }
   ],
   "source": [
    "# Change the data type from String to Decimal for longitude\n",
    "establishments.update_many({},[{'$set':{\"geocode.longitude\":{'$toDouble':\"$geocode.longitude\"}}}])\n"
   ]
  },
  {
   "cell_type": "code",
   "execution_count": 19,
   "id": "08dd7c72",
   "metadata": {},
   "outputs": [
    {
     "data": {
      "text/plain": [
       "<pymongo.results.UpdateResult at 0x1f823af5ed0>"
      ]
     },
     "execution_count": 19,
     "metadata": {},
     "output_type": "execute_result"
    }
   ],
   "source": [
    "# Change the data type from String to Decimal for latitude\n",
    "establishments.update_many({},[{'$set':{\"geocode.latitude\":{'$toDouble':\"$geocode.latitude\"}}}])"
   ]
  },
  {
   "cell_type": "code",
   "execution_count": 20,
   "id": "0deacaf9",
   "metadata": {},
   "outputs": [
    {
     "name": "stdout",
     "output_type": "stream",
     "text": [
      "[{'_id': ObjectId('64e95ac9c6c63ed464f87de9'),\n",
      "  'geocode': {'latitude': 51.6868977, 'longitude': 9e-06}},\n",
      " {'_id': ObjectId('64e95ac9c6c63ed464f87de8'),\n",
      "  'geocode': {'latitude': 51.686897277832, 'longitude': 9.0000003183377e-06}},\n",
      " {'_id': ObjectId('64e95ac9c6c63ed464f87b1a'),\n",
      "  'geocode': {'latitude': 51.6317453586187, 'longitude': 1.30436926169919e-05}},\n",
      " {'_id': ObjectId('64e95ac8c6c63ed464f86819'),\n",
      "  'geocode': {'latitude': 51.46422, 'longitude': 3.7e-05}},\n",
      " {'_id': ObjectId('64e95ac9c6c63ed464f87a48'),\n",
      "  'geocode': {'latitude': 51.6076079, 'longitude': 6.02e-05}},\n",
      " {'_id': ObjectId('64e95ac8c6c63ed464f874b7'),\n",
      "  'geocode': {'latitude': 51.5382308959961, 'longitude': 6.39999998384155e-05}},\n",
      " {'_id': ObjectId('64e95ac8c6c63ed464f8725e'),\n",
      "  'geocode': {'latitude': 51.513715, 'longitude': 7.1e-05}},\n",
      " {'_id': ObjectId('64e95ac9c6c63ed464f87a49'),\n",
      "  'geocode': {'latitude': 51.607714, 'longitude': 0.000113}},\n",
      " {'_id': ObjectId('64e95ac8c6c63ed464f874cf'),\n",
      "  'geocode': {'latitude': 51.5394859313965, 'longitude': 0.000118999996630009}},\n",
      " {'_id': ObjectId('64e95ac8c6c63ed464f874d1'),\n",
      "  'geocode': {'latitude': 51.5394859313965, 'longitude': 0.000118999996630009}},\n",
      " {'_id': ObjectId('64e95ac8c6c63ed464f874d0'),\n",
      "  'geocode': {'latitude': 51.5394859313965, 'longitude': 0.000118999996630009}},\n",
      " {'_id': ObjectId('64e95ac8c6c63ed464f87551'),\n",
      "  'geocode': {'latitude': 51.5417094, 'longitude': 0.0001417}},\n",
      " {'_id': ObjectId('64e95ac8c6c63ed464f87552'),\n",
      "  'geocode': {'latitude': 51.5417094, 'longitude': 0.0001417}},\n",
      " {'_id': ObjectId('64e95ac8c6c63ed464f87553'),\n",
      "  'geocode': {'latitude': 51.5417094, 'longitude': 0.0001417}},\n",
      " {'_id': ObjectId('64e95ac9c6c63ed464f87de5'),\n",
      "  'geocode': {'latitude': 51.686883, 'longitude': 0.000157}}]\n"
     ]
    }
   ],
   "source": [
    "# Check that the coordinates are now numbers\n",
    "query={}\n",
    "fields={\"geocode\":1}\n",
    "sort=[(\"geocode\",1)]\n",
    "limit=15\n",
    "results=list(establishments.find(query,fields).sort(sort).limit(limit))\n",
    "pprint(results)"
   ]
  },
  {
   "cell_type": "code",
   "execution_count": 21,
   "id": "0287d881",
   "metadata": {
    "scrolled": false
   },
   "outputs": [
    {
     "data": {
      "text/plain": [
       "<pymongo.results.UpdateResult at 0x1f823c6c8b0>"
      ]
     },
     "execution_count": 21,
     "metadata": {},
     "output_type": "execute_result"
    }
   ],
   "source": [
    "#Change the data type from String to Integer for RatingValue\n",
    "non_ratings = [\"AwaitingInspection\", \"Awaiting Inspection\", \"AwaitingPublication\", \"Pass\", \"Exempt\"]\n",
    "establishments.update_many({\"RatingValue\": {\"$in\": non_ratings}}, [ {'$set':{ \"RatingValue\" : None}} ])\n",
    "establishments.update_many({},[{'$set':{\"RatingValue\":{'$toInt':\"$RatingValue\"}}}])"
   ]
  },
  {
   "cell_type": "code",
   "execution_count": 22,
   "id": "91089445",
   "metadata": {},
   "outputs": [
    {
     "name": "stdout",
     "output_type": "stream",
     "text": [
      "[{'RatingValue': 5, '_id': ObjectId('64e95ac3c6c63ed464f7e898')},\n",
      " {'RatingValue': 5, '_id': ObjectId('64e95ac3c6c63ed464f7e89f')},\n",
      " {'RatingValue': 5, '_id': ObjectId('64e95ac3c6c63ed464f7e893')},\n",
      " {'RatingValue': 5, '_id': ObjectId('64e95ac3c6c63ed464f7e8a5')},\n",
      " {'RatingValue': 5, '_id': ObjectId('64e95ac3c6c63ed464f7e8a1')},\n",
      " {'RatingValue': 5, '_id': ObjectId('64e95ac3c6c63ed464f7e8aa')},\n",
      " {'RatingValue': 5, '_id': ObjectId('64e95ac3c6c63ed464f7e89e')},\n",
      " {'RatingValue': 5, '_id': ObjectId('64e95ac3c6c63ed464f7e8ac')},\n",
      " {'RatingValue': 5, '_id': ObjectId('64e95ac3c6c63ed464f7e8a0')},\n",
      " {'RatingValue': 5, '_id': ObjectId('64e95ac3c6c63ed464f7e89a')},\n",
      " {'RatingValue': 5, '_id': ObjectId('64e95ac3c6c63ed464f7e8a4')},\n",
      " {'RatingValue': 5, '_id': ObjectId('64e95ac3c6c63ed464f7e8a2')},\n",
      " {'RatingValue': 5, '_id': ObjectId('64e95ac3c6c63ed464f7e89c')},\n",
      " {'RatingValue': 5, '_id': ObjectId('64e95ac3c6c63ed464f7e899')},\n",
      " {'RatingValue': 5, '_id': ObjectId('64e95ac3c6c63ed464f7e8ab')},\n",
      " {'RatingValue': 5, '_id': ObjectId('64e95ac3c6c63ed464f7e8ae')},\n",
      " {'RatingValue': 5, '_id': ObjectId('64e95ac3c6c63ed464f7e8ad')},\n",
      " {'RatingValue': 5, '_id': ObjectId('64e95ac3c6c63ed464f7e8a9')},\n",
      " {'RatingValue': 5, '_id': ObjectId('64e95ac3c6c63ed464f7e895')},\n",
      " {'RatingValue': 5, '_id': ObjectId('64e95ac3c6c63ed464f7e8a3')}]\n"
     ]
    }
   ],
   "source": [
    "# Check that the RatingValue are now numbers\n",
    "query={}\n",
    "fields={\"RatingValue\":1}\n",
    "sort=[(\"RatingValue\",-1)]\n",
    "limit=20\n",
    "results=list(establishments.find(query,fields).sort(sort).limit(limit))\n",
    "pprint(results)"
   ]
  },
  {
   "cell_type": "code",
   "execution_count": 23,
   "id": "e7d86ac7",
   "metadata": {},
   "outputs": [],
   "source": [
    "#mongo.drop_database('uk_food')"
   ]
  },
  {
   "cell_type": "code",
   "execution_count": null,
   "id": "0094f908",
   "metadata": {},
   "outputs": [],
   "source": []
  }
 ],
 "metadata": {
  "kernelspec": {
   "display_name": "Python 3 (ipykernel)",
   "language": "python",
   "name": "python3"
  },
  "language_info": {
   "codemirror_mode": {
    "name": "ipython",
    "version": 3
   },
   "file_extension": ".py",
   "mimetype": "text/x-python",
   "name": "python",
   "nbconvert_exporter": "python",
   "pygments_lexer": "ipython3",
   "version": "3.10.9"
  }
 },
 "nbformat": 4,
 "nbformat_minor": 5
}
